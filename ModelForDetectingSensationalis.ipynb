{
  "nbformat": 4,
  "nbformat_minor": 0,
  "metadata": {
    "colab": {
      "provenance": [],
      "authorship_tag": "ABX9TyMfTlVfUJZxuQX57uY7tq4C",
      "include_colab_link": true
    },
    "kernelspec": {
      "name": "python3",
      "display_name": "Python 3"
    },
    "language_info": {
      "name": "python"
    }
  },
  "cells": [
    {
      "cell_type": "markdown",
      "metadata": {
        "id": "view-in-github",
        "colab_type": "text"
      },
      "source": [
        "<a href=\"https://colab.research.google.com/github/Pardo248/model-for-detecting-sensationalis/blob/main/ModelForDetectingSensationalis.ipynb\" target=\"_parent\"><img src=\"https://colab.research.google.com/assets/colab-badge.svg\" alt=\"Open In Colab\"/></a>"
      ]
    },
    {
      "cell_type": "markdown",
      "source": [
        "GIT\n",
        "\n",
        "Recuerden que Solo es para guardar los archivos subidos en git\n",
        "Para guatdar los cambio en el archivo es\n",
        "\n",
        "```\n",
        " Archivo - Guardar una copia en git\n",
        "```\n",
        "\n",
        "\n"
      ],
      "metadata": {
        "id": "Yz7Y01LUVpPQ"
      }
    },
    {
      "cell_type": "code",
      "source": [
        "!git pull --rebase origin main\n"
      ],
      "metadata": {
        "colab": {
          "base_uri": "https://localhost:8080/"
        },
        "id": "w7gWN_Q6cajj",
        "outputId": "b56d1240-bcf7-4469-e445-7cfa6447ad2a"
      },
      "execution_count": 21,
      "outputs": [
        {
          "output_type": "stream",
          "name": "stdout",
          "text": [
            "From https://github.com/Pardo248/model-for-detecting-sensationalis\n",
            " * branch            main       -> FETCH_HEAD\n",
            "Rebasing (1/1)\r\r\u001b[KSuccessfully rebased and updated refs/heads/main.\n"
          ]
        }
      ]
    },
    {
      "cell_type": "code",
      "source": [
        "!git pull origin main"
      ],
      "metadata": {
        "colab": {
          "base_uri": "https://localhost:8080/"
        },
        "id": "J3XZKfapcJFx",
        "outputId": "f37d3b30-27ab-4b7e-e746-4ac30ece45f2"
      },
      "execution_count": 22,
      "outputs": [
        {
          "output_type": "stream",
          "name": "stdout",
          "text": [
            "From https://github.com/Pardo248/model-for-detecting-sensationalis\n",
            " * branch            main       -> FETCH_HEAD\n",
            "Already up to date.\n"
          ]
        }
      ]
    },
    {
      "cell_type": "code",
      "source": [
        "!git init"
      ],
      "metadata": {
        "colab": {
          "base_uri": "https://localhost:8080/"
        },
        "id": "4OAoyYvVWF38",
        "outputId": "aca774f0-1b43-4648-8165-f26200ac9f51"
      },
      "execution_count": null,
      "outputs": [
        {
          "output_type": "stream",
          "name": "stdout",
          "text": [
            "\u001b[33mhint: Using 'master' as the name for the initial branch. This default branch name\u001b[m\n",
            "\u001b[33mhint: is subject to change. To configure the initial branch name to use in all\u001b[m\n",
            "\u001b[33mhint: of your new repositories, which will suppress this warning, call:\u001b[m\n",
            "\u001b[33mhint: \u001b[m\n",
            "\u001b[33mhint: \tgit config --global init.defaultBranch <name>\u001b[m\n",
            "\u001b[33mhint: \u001b[m\n",
            "\u001b[33mhint: Names commonly chosen instead of 'master' are 'main', 'trunk' and\u001b[m\n",
            "\u001b[33mhint: 'development'. The just-created branch can be renamed via this command:\u001b[m\n",
            "\u001b[33mhint: \u001b[m\n",
            "\u001b[33mhint: \tgit branch -m <name>\u001b[m\n",
            "Initialized empty Git repository in /content/.git/\n"
          ]
        }
      ]
    },
    {
      "cell_type": "markdown",
      "source": [
        "Esta configuracion es GENERAL, para hacer commit configuren su usuario por favor"
      ],
      "metadata": {
        "id": "v2iwhTRUWJOn"
      }
    },
    {
      "cell_type": "code",
      "source": [
        "#Cambiar estos datos por sus propios\n",
        "\n",
        "!git config --global user.email \"castillopardodi3go@gmial.com\"\n",
        "!git config --global user.name \"Pardo248\"\n"
      ],
      "metadata": {
        "id": "l0SnVMbKZDJn"
      },
      "execution_count": null,
      "outputs": []
    },
    {
      "cell_type": "code",
      "source": [
        "from getpass import getpass\n",
        "\n",
        "# Modificar segun sus datos\n",
        "token = getpass(\"Introduce tu token de GitHub: \")# Token de Git que sirve para las conecciones si aun no tienes uno puedes configurarlo aqui https://github.com/settings/tokens\n",
        "user = \"Pardo248\" #Nombre de Usuario del la cuenta de Git\n",
        "repo = \"model-for-detecting-sensationalis\"# No modificar este, es el nombre del repositorio\n",
        "\n",
        "# Agregar y commitear cambios\n",
        "!git pull origin main\n",
        "!git add .\n",
        "!git commit -m \"Add dataset\"  #Cambiar el Comit segun lo que se subio de archivos\n",
        "\n",
        "#!git remote add origin https://{token}@github.com/{user}/{repo}.git\n",
        "!git remote set-url origin https://{token}@github.com/{user}/{repo}.git\n",
        "!git branch -M main\n",
        "!git push -u origin main"
      ],
      "metadata": {
        "id": "xiaLC7a_v8YA",
        "colab": {
          "base_uri": "https://localhost:8080/"
        },
        "outputId": "b447407c-f4a6-47e7-d8c6-2cd88215c9d3"
      },
      "execution_count": 23,
      "outputs": [
        {
          "output_type": "stream",
          "name": "stdout",
          "text": [
            "Introduce tu token de GitHub: ··········\n",
            "From https://github.com/Pardo248/model-for-detecting-sensationalis\n",
            " * branch            main       -> FETCH_HEAD\n",
            "Already up to date.\n",
            "On branch main\n",
            "nothing to commit, working tree clean\n",
            "Enumerating objects: 5, done.\n",
            "Counting objects: 100% (5/5), done.\n",
            "Delta compression using up to 2 threads\n",
            "Compressing objects: 100% (3/3), done.\n",
            "Writing objects: 100% (4/4), 732.21 KiB | 3.25 MiB/s, done.\n",
            "Total 4 (delta 0), reused 0 (delta 0), pack-reused 0\n",
            "To https://github.com/Pardo248/model-for-detecting-sensationalis.git\n",
            "   5691611..9c47aff  main -> main\n",
            "Branch 'main' set up to track remote branch 'main' from 'origin'.\n"
          ]
        }
      ]
    },
    {
      "cell_type": "markdown",
      "source": [
        "# Sección nueva"
      ],
      "metadata": {
        "id": "2IEabJGHU-hb"
      }
    },
    {
      "cell_type": "code",
      "execution_count": null,
      "metadata": {
        "id": "1q7nfpYdUyIf"
      },
      "outputs": [],
      "source": []
    },
    {
      "cell_type": "code",
      "source": [],
      "metadata": {
        "id": "pr2ssDPQVoZC"
      },
      "execution_count": null,
      "outputs": []
    }
  ]
}