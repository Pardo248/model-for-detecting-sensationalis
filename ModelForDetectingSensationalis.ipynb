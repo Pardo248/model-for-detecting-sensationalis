{
  "nbformat": 4,
  "nbformat_minor": 0,
  "metadata": {
    "colab": {
      "provenance": [],
      "authorship_tag": "ABX9TyOaWrRfFJoD6H85f4Yq5Gio",
      "include_colab_link": true
    },
    "kernelspec": {
      "name": "python3",
      "display_name": "Python 3"
    },
    "language_info": {
      "name": "python"
    }
  },
  "cells": [
    {
      "cell_type": "markdown",
      "metadata": {
        "id": "view-in-github",
        "colab_type": "text"
      },
      "source": [
        "<a href=\"https://colab.research.google.com/github/Pardo248/model-for-detecting-sensationalis/blob/main/ModelForDetectingSensationalis.ipynb\" target=\"_parent\"><img src=\"https://colab.research.google.com/assets/colab-badge.svg\" alt=\"Open In Colab\"/></a>"
      ]
    },
    {
      "cell_type": "markdown",
      "source": [
        "GIT\n",
        "\n",
        "Recuerden que Solo es para guardar los archivos subidos en git\n",
        "\n"
      ],
      "metadata": {
        "id": "Yz7Y01LUVpPQ"
      }
    },
    {
      "cell_type": "code",
      "source": [
        "gitPardo = \"Pardo248\""
      ],
      "metadata": {
        "id": "_pNLmShFVTfL"
      },
      "execution_count": null,
      "outputs": []
    },
    {
      "cell_type": "code",
      "source": [
        "!git init"
      ],
      "metadata": {
        "colab": {
          "base_uri": "https://localhost:8080/"
        },
        "id": "4OAoyYvVWF38",
        "outputId": "aca774f0-1b43-4648-8165-f26200ac9f51"
      },
      "execution_count": 1,
      "outputs": [
        {
          "output_type": "stream",
          "name": "stdout",
          "text": [
            "\u001b[33mhint: Using 'master' as the name for the initial branch. This default branch name\u001b[m\n",
            "\u001b[33mhint: is subject to change. To configure the initial branch name to use in all\u001b[m\n",
            "\u001b[33mhint: of your new repositories, which will suppress this warning, call:\u001b[m\n",
            "\u001b[33mhint: \u001b[m\n",
            "\u001b[33mhint: \tgit config --global init.defaultBranch <name>\u001b[m\n",
            "\u001b[33mhint: \u001b[m\n",
            "\u001b[33mhint: Names commonly chosen instead of 'master' are 'main', 'trunk' and\u001b[m\n",
            "\u001b[33mhint: 'development'. The just-created branch can be renamed via this command:\u001b[m\n",
            "\u001b[33mhint: \u001b[m\n",
            "\u001b[33mhint: \tgit branch -m <name>\u001b[m\n",
            "Initialized empty Git repository in /content/.git/\n"
          ]
        }
      ]
    },
    {
      "cell_type": "markdown",
      "source": [
        "Esta configuracion es GENERAL, para hacer commit configuren su usuario por favor"
      ],
      "metadata": {
        "id": "v2iwhTRUWJOn"
      }
    },
    {
      "cell_type": "code",
      "source": [
        "from getpass import getpass\n",
        "\n",
        "# Modificar segun sus datos\n",
        "token = getpass(\"Introduce tu token de GitHub: \")# Token de Git que sirve para las conecciones si aun no tienes uno puedes configurarlo aqui https://github.com/settings/tokens\n",
        "user = gitPardo\n",
        "repo = \"model-for-detecting-sensationalis\"# No modificar este, es el nombre del repositorio\n",
        "\n",
        "# Agregar y commitear cambios\n",
        "!git add .\n",
        "!git commit -m \"First commit desde Colab\"\n",
        "\n",
        "!git remote set-url origin https://{token}@github.com/{user}/{repo}.git\n",
        "!git push -u origin main"
      ],
      "metadata": {
        "colab": {
          "base_uri": "https://localhost:8080/"
        },
        "id": "xiaLC7a_v8YA",
        "outputId": "3c5745a7-261d-4438-d6a8-aafe77e69fca"
      },
      "execution_count": null,
      "outputs": [
        {
          "output_type": "stream",
          "name": "stdout",
          "text": [
            "Introduce tu token de GitHub: ··········\n",
            "On branch main\n",
            "Your branch is up to date with 'origin/main'.\n",
            "\n",
            "nothing to commit, working tree clean\n",
            "Branch 'main' set up to track remote branch 'main' from 'origin'.\n",
            "Everything up-to-date\n"
          ]
        }
      ]
    },
    {
      "cell_type": "markdown",
      "source": [
        "# Sección nueva"
      ],
      "metadata": {
        "id": "2IEabJGHU-hb"
      }
    },
    {
      "cell_type": "code",
      "execution_count": null,
      "metadata": {
        "id": "1q7nfpYdUyIf"
      },
      "outputs": [],
      "source": []
    },
    {
      "cell_type": "code",
      "source": [],
      "metadata": {
        "id": "pr2ssDPQVoZC"
      },
      "execution_count": null,
      "outputs": []
    }
  ]
}